{
 "cells": [
  {
   "cell_type": "markdown",
   "metadata": {},
   "source": [
    "## Debug exercise\n",
    "\n",
    "The functions below de-normalizes the 3D pixel coordinate (as in some image volume volume) from (-1, 1) to the integer pixel indexes. It might not work as user expect. Find and fix the issue."
   ]
  },
  {
   "cell_type": "code",
   "execution_count": 2,
   "metadata": {},
   "outputs": [],
   "source": [
    "import enum\n",
    "import warnings\n",
    "from typing import Optional, Tuple\n",
    "\n",
    "import torch\n",
    "import torch.nn.functional as F\n",
    "\n",
    "from kornia.constants import pi\n",
    "from kornia.core import Tensor, concatenate, pad, stack, tensor, where\n",
    "from kornia.core.check import KORNIA_CHECK, KORNIA_CHECK_SHAPE\n",
    "from kornia.utils.helpers import _torch_inverse_cast\n",
    "from kornia.utils.misc import eye_like\n",
    "\n",
    "\n",
    "\n",
    "def denormalize_pixel_coordinates3d(\n",
    "        pixel_coordinates: torch.Tensor,\n",
    "        depth: int,\n",
    "        height: int,\n",
    "        width: int,\n",
    "        eps: float = 1e-8) -> torch.Tensor:\n",
    "    r\"\"\"Denormalize pixel coordinates.\n",
    "    The input is assumed to be -1 if on extreme left, 1 if on\n",
    "    extreme right (x = w-1).\n",
    "    Args:\n",
    "        pixel_coordinates (torch.Tensor): the normalized grid coordinates.\n",
    "          Shape can be :math:`(*, 3)`.\n",
    "        depth (int): the maximum depth in the x-axis.\n",
    "        height (int): the maximum height in the y-axis.\n",
    "        width (int): the maximum width in the x-axis.\n",
    "        eps (float): safe division by zero. (default 1e-8).\n",
    "    Return:\n",
    "        torch.Tensor: the denormalized pixel coordinates.\n",
    "    \"\"\"\n",
    "    if pixel_coordinates.shape[-1] != 3:\n",
    "        raise ValueError(\"Input pixel_coordinates must be of shape (*, 3). \"\n",
    "                         \"Got {}\".format(pixel_coordinates.shape))\n",
    "    # compute normalization factor\n",
    "    dhw: torch.Tensor = torch.stack([\n",
    "        torch.tensor(depth), torch.tensor(width), torch.tensor(height)\n",
    "    ]).to(pixel_coordinates.device).to(pixel_coordinates.dtype)\n",
    "\n",
    "    factor: torch.Tensor = torch.tensor(2.) / (dhw - 1).clamp(eps)\n",
    "\n",
    "    return torch.tensor(1.) / factor * (pixel_coordinates + 1)"
   ]
  },
  {
   "cell_type": "code",
   "execution_count": null,
   "metadata": {},
   "outputs": [],
   "source": []
  }
 ],
 "metadata": {
  "kernelspec": {
   "display_name": "Python 3 (ipykernel)",
   "language": "python",
   "name": "python3"
  },
  "language_info": {
   "codemirror_mode": {
    "name": "ipython",
    "version": 3
   },
   "file_extension": ".py",
   "mimetype": "text/x-python",
   "name": "python",
   "nbconvert_exporter": "python",
   "pygments_lexer": "ipython3",
   "version": "3.8.10"
  }
 },
 "nbformat": 4,
 "nbformat_minor": 5
}
