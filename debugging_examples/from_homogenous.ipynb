{
 "cells": [
  {
   "cell_type": "markdown",
   "id": "97bdc7e2",
   "metadata": {},
   "source": [
    "## Debug exercise\n",
    "\n",
    "The functions below convert Eucledian coordinates to [homogenious](https://en.wikipedia.org/wiki/Homogeneous_coordinates). \n",
    "However, the functions sometimes return NaNs. \n",
    "Find the cause for this, create a minimal reproducing example, discuss the possible fixes and fix the issue."
   ]
  },
  {
   "cell_type": "code",
   "execution_count": 1,
   "id": "1fc12fd7",
   "metadata": {},
   "outputs": [
    {
     "name": "stderr",
     "output_type": "stream",
     "text": [
      "/home/honzamac/miniconda3/lib/python3.11/site-packages/torch/nn/modules/transformer.py:20: UserWarning: Failed to initialize NumPy: No module named 'numpy' (Triggered internally at ../torch/csrc/utils/tensor_numpy.cpp:84.)\n",
      "  device: torch.device = torch.device(torch._C._get_default_device()),  # torch.device('cpu'),\n"
     ]
    }
   ],
   "source": [
    "import torch\n",
    "import torch.nn as nn\n",
    "import torch.nn.functional as F\n",
    "\n",
    "\n",
    "\n",
    "def convert_points_to_homogeneous(points):\n",
    "    r\"\"\"Function that converts points from Euclidean to homogeneous space.\n",
    "    See :class:`~torchgeometry.ConvertPointsToHomogeneous` for details.\n",
    "    Examples::\n",
    "        >>> inp = torch.rand(2, 4, 3)  # BxNx3\n",
    "        >>> output = convert_points_to_homogeneous(inp)  # BxNx4\n",
    "    \"\"\"\n",
    "    if not torch.is_tensor(points):\n",
    "        raise TypeError(\"Input type is not a torch.Tensor. Got {}\".format(\n",
    "            type(points)))\n",
    "    if len(points.shape) < 2:\n",
    "        raise ValueError(\"Input must be at least a 2D tensor. Got {}\".format(\n",
    "            points.shape))\n",
    "\n",
    "    return F.pad(points, (0, 1), \"constant\", 1.0)\n",
    "\n",
    "\n",
    "\n",
    "def convert_points_from_homogeneous(points: torch.Tensor) -> torch.Tensor:\n",
    "    r\"\"\"Function that converts points from homogeneous to Euclidean space.\n",
    "    See :class:`~torchgeometry.ConvertPointsFromHomogeneous` for details.\n",
    "    Examples::\n",
    "        >>> inp = torch.rand(2, 4, 3)  # BxNx3\n",
    "        >>> output = convert_points_from_homogeneous(inp)  # BxNx2\n",
    "    \"\"\"\n",
    "    if not torch.is_tensor(points):\n",
    "        raise TypeError(\"Input type is not a torch.Tensor. Got {}\".format(\n",
    "            type(points)))\n",
    "    if len(points.shape) < 2:\n",
    "        raise ValueError(\"Input must be at least a 2D tensor. Got {}\".format(\n",
    "            points.shape))\n",
    "\n",
    "    return points[..., :-1] / points[..., -1:]"
   ]
  },
  {
   "cell_type": "code",
   "execution_count": 9,
   "id": "eeaf74cb",
   "metadata": {},
   "outputs": [],
   "source": [
    "inp = torch.rand(2, 4, 3) \n",
    "h_points = convert_points_to_homogeneous(inp)\n",
    "point = convert_points_from_homogeneous(h_points)\n",
    "\n",
    "torch.testing.assert_close(point, inp)"
   ]
  }
 ],
 "metadata": {
  "kernelspec": {
   "display_name": "Python 3 (ipykernel)",
   "language": "python",
   "name": "python3"
  },
  "language_info": {
   "codemirror_mode": {
    "name": "ipython",
    "version": 3
   },
   "file_extension": ".py",
   "mimetype": "text/x-python",
   "name": "python",
   "nbconvert_exporter": "python",
   "pygments_lexer": "ipython3",
   "version": "3.11.5"
  }
 },
 "nbformat": 4,
 "nbformat_minor": 5
}
